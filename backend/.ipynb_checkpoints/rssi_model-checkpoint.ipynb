{
 "cells": [
  {
   "cell_type": "code",
   "execution_count": 32,
   "metadata": {},
   "outputs": [],
   "source": [
    "from sklearn.ensemble import RandomForestRegressor\n",
    "from sklearn.externals import joblib\n",
    "from sklearn.model_selection import train_test_split, cross_val_score\n",
    "from sklearn.preprocessing import MinMaxScaler\n",
    "import numpy as  np\t \n",
    "import pandas as pd\n",
    "import pickle \n"
   ]
  },
  {
   "cell_type": "code",
   "execution_count": 33,
   "metadata": {},
   "outputs": [],
   "source": [
    "train_data_path = 'new_wifi.json'\n",
    "\n",
    "cellid_scaler = MinMaxScaler()\n",
    "\n",
    "def load(train_file_name):\n",
    "    if train_file_name == None:\n",
    "        print('File does not exist')\n",
    "        exit()\n",
    "\n",
    "    data_frame = pd.read_json(train_file_name)\n",
    "    \n",
    "    x_data = data_frame[['AP01','AP02','AP03','AP04','AP05']]\n",
    "    y_data = data_frame['cellid_']    \n",
    "\n",
    "    x_train, x_test, y_train, y_test = train_test_split(x_data, y_data, test_size=0.2, random_state=0)\n",
    "    return x_train,x_test,y_train,y_test, x_data, y_data\n",
    "\n",
    "\n",
    "def normalizeX(arr):\n",
    "    res = np.copy(arr).astype(np.float)\n",
    "    for i in range(np.shape(res)[0]):\n",
    "        for j in range(np.shape(res)[1]):\n",
    "            if res[i][j] == 100:\n",
    "                res[i][j] = 0\n",
    "            else:\n",
    "                res[i][j] = -0.01 * res[i][j]\n",
    "    return res\n",
    "\n",
    "def normalizeY(arr):\n",
    "    global cellid_scaler\n",
    "    cellid_scaler.fit(arr)\n",
    "    return cellid_scaler.transform(arr)\n",
    "\n",
    "\n",
    "def getMiniBatch(arr, batch_size=3):\n",
    "    index=0\n",
    "    while True:\n",
    "        if index+batch_size >= len(arr):\n",
    "            res = arr[index:]\n",
    "            res = np.concatenate((res, arr[:index+batch_size-len(arr)]))\n",
    "        else:\n",
    "            res =arr[index:index + batch_size]\n",
    "        index = (index+batch_size)%len(arr)\n",
    "        yield res\n",
    "\n",
    "class AbstractModel(object):\n",
    "    parameter_save_path = 'param.pkl'\n",
    "    cellid_regression_model_save_path = None\n",
    "\n",
    "    cellid_regression_model = None\n",
    "    cellid_mean = None\n",
    "    cellid_std = None\n",
    "\n",
    "    normalize_x = None\n",
    "    normalize_y = None\n",
    "\n",
    "    def __init__(self):\n",
    "        pass\n",
    "    \n",
    "    def preprocess(self, x, y):\n",
    "        self.normalize_x = normalizeX(x)\n",
    "        self.normalize_y = normalizeY(y)\n",
    "    \n",
    "    def save(self):\n",
    "        print(\"<<Saving>>\")\n",
    "        joblib.dump(self.cellid_regression_model, self.cellid_regression_model_save_path)\n",
    "    \n",
    "    def load(self):\n",
    "        self.cellid_regression_model = joblib.load(self.cellid_regression_model_save_path)\n",
    "    \n",
    "    def fit(self, x, y):\n",
    "        self.preprocess(x, y)\n",
    "        print(\"<< training >>\")\n",
    "        self.cellid_regression_model.fit(self.normalize_x, self.normalize_y)\n",
    "    \n",
    "        del self.normalize_x\n",
    "        del self.normalize_y\n",
    "        self.save()\n",
    "\n",
    "    def predict(self, x):\n",
    "\n",
    "        self.load()\n",
    "\n",
    "        x = normalizeX(x)\n",
    "        predict_cellid = self.cellid_regression_model.predict(x)\n",
    "        return predict_cellid\n",
    "    \n",
    "        def score(self, x, y):\n",
    "        self.preprocess(x, y)\n",
    "        print(\"<<scoring>>\")\n",
    "        rscore = self.cellid_regression_model.score(self.normalize_x, self.normalize_y)\n",
    "        return rscore\n",
    "    \n",
    "class RandomForest(AbstractModel):\n",
    "    cellid_regression_model_save_path = './rf_cellid.pkl'\n",
    "\n",
    "    def __init__(self):\n",
    "        self.cellid_regression_model = RandomForestRegressor()"
   ]
  },
  {
   "cell_type": "code",
   "execution_count": 34,
   "metadata": {},
   "outputs": [
    {
     "ename": "TypeError",
     "evalue": "If no scoring is specified, the estimator passed should have a 'score' method. The estimator <__main__.RandomForest object at 0x7fcd78cb8ac8> does not.",
     "output_type": "error",
     "traceback": [
      "\u001b[0;31m---------------------------------------------------------------------------\u001b[0m",
      "\u001b[0;31mTypeError\u001b[0m                                 Traceback (most recent call last)",
      "\u001b[0;32m<ipython-input-34-7165898a8d56>\u001b[0m in \u001b[0;36m<module>\u001b[0;34m()\u001b[0m\n\u001b[1;32m      5\u001b[0m     \u001b[0;31m#rf_model.fit(train_x, train_y)\u001b[0m\u001b[0;34m\u001b[0m\u001b[0;34m\u001b[0m\u001b[0m\n\u001b[1;32m      6\u001b[0m     \u001b[0;31m#rf_score = rf_model.score(test_x, test_y)\u001b[0m\u001b[0;34m\u001b[0m\u001b[0;34m\u001b[0m\u001b[0m\n\u001b[0;32m----> 7\u001b[0;31m     \u001b[0mScores\u001b[0m \u001b[0;34m=\u001b[0m \u001b[0mcross_val_score\u001b[0m\u001b[0;34m(\u001b[0m\u001b[0mrf_model\u001b[0m\u001b[0;34m,\u001b[0m \u001b[0mx_data\u001b[0m\u001b[0;34m,\u001b[0m \u001b[0my_data\u001b[0m\u001b[0;34m,\u001b[0m \u001b[0mcv\u001b[0m\u001b[0;34m=\u001b[0m\u001b[0;36m10\u001b[0m\u001b[0;34m)\u001b[0m\u001b[0;34m\u001b[0m\u001b[0m\n\u001b[0m\u001b[1;32m      8\u001b[0m     \u001b[0mprint\u001b[0m\u001b[0;34m(\u001b[0m\u001b[0;34m\"Mean score:\"\u001b[0m\u001b[0;34m,\u001b[0m\u001b[0mnp\u001b[0m\u001b[0;34m.\u001b[0m\u001b[0mmean\u001b[0m\u001b[0;34m(\u001b[0m\u001b[0mScores\u001b[0m\u001b[0;34m)\u001b[0m\u001b[0;34m)\u001b[0m\u001b[0;34m\u001b[0m\u001b[0m\n\u001b[1;32m      9\u001b[0m     \u001b[0;31m#print(\"RF score:\",rf_score)\u001b[0m\u001b[0;34m\u001b[0m\u001b[0;34m\u001b[0m\u001b[0m\n",
      "\u001b[0;32m~/jupyter/lib/python3.5/site-packages/sklearn/model_selection/_validation.py\u001b[0m in \u001b[0;36mcross_val_score\u001b[0;34m(estimator, X, y, groups, scoring, cv, n_jobs, verbose, fit_params, pre_dispatch)\u001b[0m\n\u001b[1;32m    333\u001b[0m     \"\"\"\n\u001b[1;32m    334\u001b[0m     \u001b[0;31m# To ensure multimetric format is not supported\u001b[0m\u001b[0;34m\u001b[0m\u001b[0;34m\u001b[0m\u001b[0m\n\u001b[0;32m--> 335\u001b[0;31m     \u001b[0mscorer\u001b[0m \u001b[0;34m=\u001b[0m \u001b[0mcheck_scoring\u001b[0m\u001b[0;34m(\u001b[0m\u001b[0mestimator\u001b[0m\u001b[0;34m,\u001b[0m \u001b[0mscoring\u001b[0m\u001b[0;34m=\u001b[0m\u001b[0mscoring\u001b[0m\u001b[0;34m)\u001b[0m\u001b[0;34m\u001b[0m\u001b[0m\n\u001b[0m\u001b[1;32m    336\u001b[0m \u001b[0;34m\u001b[0m\u001b[0m\n\u001b[1;32m    337\u001b[0m     cv_results = cross_validate(estimator=estimator, X=X, y=y, groups=groups,\n",
      "\u001b[0;32m~/jupyter/lib/python3.5/site-packages/sklearn/metrics/scorer.py\u001b[0m in \u001b[0;36mcheck_scoring\u001b[0;34m(estimator, scoring, allow_none)\u001b[0m\n\u001b[1;32m    297\u001b[0m                 \u001b[0;34m\"If no scoring is specified, the estimator passed should \"\u001b[0m\u001b[0;34m\u001b[0m\u001b[0m\n\u001b[1;32m    298\u001b[0m                 \u001b[0;34m\"have a 'score' method. The estimator %r does not.\"\u001b[0m\u001b[0;34m\u001b[0m\u001b[0m\n\u001b[0;32m--> 299\u001b[0;31m                 % estimator)\n\u001b[0m\u001b[1;32m    300\u001b[0m     \u001b[0;32melse\u001b[0m\u001b[0;34m:\u001b[0m\u001b[0;34m\u001b[0m\u001b[0m\n\u001b[1;32m    301\u001b[0m         raise ValueError(\"scoring value should either be a callable, string or\"\n",
      "\u001b[0;31mTypeError\u001b[0m: If no scoring is specified, the estimator passed should have a 'score' method. The estimator <__main__.RandomForest object at 0x7fcd78cb8ac8> does not."
     ]
    }
   ],
   "source": [
    "if __name__ == '__main__':\n",
    "    train_x, test_x, train_y, test_y, x_data, y_data = load(train_data_path)\n",
    "\n",
    "    rf_model = RandomForest() \n",
    "    #rf_model.fit(train_x, train_y)\n",
    "    #rf_score = rf_model.score(test_x, test_y)\n",
    "    Scores = cross_val_score(rf_model, x_data, y_data, cv=10)\n",
    "    print(\"Mean score:\",np.mean(Scores))\n",
    "    #print(\"RF score:\",rf_score)"
   ]
  },
  {
   "cell_type": "code",
   "execution_count": null,
   "metadata": {},
   "outputs": [],
   "source": [
    "df =pd.read_json('new_wifi.json')"
   ]
  },
  {
   "cell_type": "code",
   "execution_count": null,
   "metadata": {},
   "outputs": [],
   "source": [
    "df.dtypes"
   ]
  },
  {
   "cell_type": "code",
   "execution_count": null,
   "metadata": {},
   "outputs": [],
   "source": []
  }
 ],
 "metadata": {
  "kernelspec": {
   "display_name": "Python 3",
   "language": "python",
   "name": "python3"
  },
  "language_info": {
   "codemirror_mode": {
    "name": "ipython",
    "version": 3
   },
   "file_extension": ".py",
   "mimetype": "text/x-python",
   "name": "python",
   "nbconvert_exporter": "python",
   "pygments_lexer": "ipython3",
   "version": "3.5.2"
  }
 },
 "nbformat": 4,
 "nbformat_minor": 2
}
