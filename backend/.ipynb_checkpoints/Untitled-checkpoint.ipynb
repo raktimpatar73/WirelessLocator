{
 "cells": [
  {
   "cell_type": "code",
   "execution_count": 108,
   "metadata": {},
   "outputs": [],
   "source": [
    "import os\n",
    "import pandas as pd \n",
    "from sklearn.externals import joblib\n",
    "import dill as pickle\n",
    "import numpy as np\n",
    "\n",
    "\n",
    "def processed(data):\n",
    "    x_track = pd.DataFrame([data])\n",
    "    print(x_track)\n",
    "    AP_list = ['D-Link_DIR-524','HP-Print-10-LaserJet Pro MFP','VLSIDESIGN_LAB','dlink','dlink_pksingh']\n",
    "    columns = x_track.columns.values.tolist()\n",
    "    x_track_df = pd.DataFrame()\n",
    "    for i in AP_list:\n",
    "        if i in columns:\n",
    "            x_track_df[i] = x_track[i]\n",
    "        else:\n",
    "            x_track_df[i]=pd.Series(100)\n",
    "    x_track_df.columns = ['AP01','AP02','AP03','AP04','AP05']\n",
    "    return x_track_df\n",
    "\n",
    "def track(data):\n",
    "    data = processed(data)\n",
    "    print(data)\n",
    "    rf = 'models/model_rf.pk'\n",
    "    loaded_model = None\n",
    "    with open(rf,'rb') as f:\n",
    "        loaded_model = pickle.load(f)\n",
    "    predictions = loaded_model.predict(data)\n",
    "    return(str(int(predictions[0])))\n"
   ]
  },
  {
   "cell_type": "code",
   "execution_count": 109,
   "metadata": {},
   "outputs": [],
   "source": [
    "data = {\"a\":\"230\",'VLSIDESIGN_LAB':\"-66\"}"
   ]
  },
  {
   "cell_type": "code",
   "execution_count": 110,
   "metadata": {},
   "outputs": [
    {
     "name": "stdout",
     "output_type": "stream",
     "text": [
      "  VLSIDESIGN_LAB    a\n",
      "0            -66  230\n",
      "   AP01  AP02 AP03  AP04  AP05\n",
      "0   100   100  -66   100   100\n"
     ]
    }
   ],
   "source": [
    "ap=track(data)"
   ]
  },
  {
   "cell_type": "code",
   "execution_count": 111,
   "metadata": {},
   "outputs": [
    {
     "data": {
      "text/plain": [
       "'14'"
      ]
     },
     "execution_count": 111,
     "metadata": {},
     "output_type": "execute_result"
    }
   ],
   "source": [
    "ap"
   ]
  },
  {
   "cell_type": "code",
   "execution_count": null,
   "metadata": {},
   "outputs": [],
   "source": []
  }
 ],
 "metadata": {
  "kernelspec": {
   "display_name": "Python 3",
   "language": "python",
   "name": "python3"
  },
  "language_info": {
   "codemirror_mode": {
    "name": "ipython",
    "version": 3
   },
   "file_extension": ".py",
   "mimetype": "text/x-python",
   "name": "python",
   "nbconvert_exporter": "python",
   "pygments_lexer": "ipython3",
   "version": "3.5.2"
  }
 },
 "nbformat": 4,
 "nbformat_minor": 2
}
